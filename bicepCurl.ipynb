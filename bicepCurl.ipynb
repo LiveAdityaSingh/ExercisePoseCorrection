{
 "nbformat": 4,
 "nbformat_minor": 2,
 "metadata": {
  "language_info": {
   "name": "python",
   "codemirror_mode": {
    "name": "ipython",
    "version": 3
   },
   "version": "3.7.3-final"
  },
  "orig_nbformat": 2,
  "file_extension": ".py",
  "mimetype": "text/x-python",
  "name": "python",
  "npconvert_exporter": "python",
  "pygments_lexer": "ipython3",
  "version": 3,
  "kernelspec": {
   "name": "python37364bit13d1418c234040ab8efddd46c21d2e1b",
   "display_name": "Python 3.7.3 64-bit"
  }
 },
 "cells": [
  {
   "source": [
    "import numpy as np\n",
    "import matplotlib.pyplot as plt\n",
    "\n",
    "import pose\n",
    "from pose_parser import parse_file, detect_perspective\n",
    ""
   ],
   "cell_type": "code",
   "outputs": [],
   "metadata": {},
   "execution_count": 11
  },
  {
   "source": [
    "good_videos = [parse_file(\"dataset/bicep/bicep_good_\"+ str(i) +\".npy\") for i in range(1,7)]\n",
    "bad_videos = [parse_file(\"dataset/bicep/bicep_bad_\" + str(i) + \".npy\") for i in range(1,11)]\n",
    "\n",
    ""
   ],
   "cell_type": "code",
   "outputs": [
    {
     "output_type": "stream",
     "name": "stdout",
     "text": "Data shape:  (114, 18, 3)\nMean torso:  360.11485467535044\nData shape:  (101, 18, 3)\nMean torso:  361.91618075058716\nData shape:  (140, 18, 3)\nMean torso:  274.49230143795376\nData shape:  (122, 18, 3)\nMean torso:  276.056770970454\nData shape:  (113, 18, 3)\nMean torso:  386.10674117118276\nData shape:  (117, 18, 3)\nMean torso:  388.8324699035529\nData shape:  (108, 18, 3)\nMean torso:  359.69948300318237\nData shape:  (146, 18, 3)\nMean torso:  362.94356251552193\nData shape:  (92, 18, 3)\nMean torso:  364.56482601788053\nData shape:  (120, 18, 3)\nMean torso:  364.55769028003914\nData shape:  (123, 18, 3)\nMean torso:  271.04817985102164\nData shape:  (100, 18, 3)\nMean torso:  274.544553716319\nData shape:  (127, 18, 3)\nMean torso: 276.5870125620258\nData shape:  (102, 18, 3)\nMean torso:  389.4333451516014\nData shape:  (108, 18, 3)\nMean torso:  366.72702499907354\nData shape:  (80, 18, 3)\nMean torso:  382.9545547331215\n"
    }
   ],
   "metadata": {},
   "execution_count": 12
  },
  {
   "cell_type": "code",
   "execution_count": null,
   "metadata": {},
   "outputs": [],
   "source": []
  },
  {
   "source": [
    "# old one\n",
    "for video in good_videos:\n",
    "    frames = video\n",
    "\n",
    "    side = detect_perspective(frames)\n",
    "\n",
    "    if (side == pose.Side.right):\n",
    "        upper_arm_vecs = np.array([pose.Joint.vector_from_joints(frame.rshoulder, frame.relbow) for frame in frames])\n",
    "        lower_arm_vecs = np.array([pose.Joint.vector_from_joints(frame.relbow, frame.rwrist) for frame in frames])\n",
    "    else:\n",
    "        upper_arm_vecs = np.array([pose.Joint.vector_from_joints(frame.lshoulder, frame.lelbow) for frame in frames])\n",
    "        lower_arm_vecs = np.array([pose.Joint.vector_from_joints(frame.lelbow, frame.lwrist) for frame in frames])\n",
    "\n",
    "    # print(lower_arm_vecs)\n",
    "    print (upper_arm_vecs.shape)\n",
    "    print (upper_arm_vecs[0])\n",
    "\n",
    "    #Find the unit vector vec/mag(normalization axis=1)\n",
    "    upper_arm_vecs = upper_arm_vecs/ np.expand_dims(np.linalg.norm(upper_arm_vecs, axis=1), axis=1)\n",
    "    lower_arm_vecs = lower_arm_vecs/ np.expand_dims(np.linalg.norm(lower_arm_vecs, axis=1), axis=1)\n",
    "\n",
    "    #Angle = cos inverse of product of two unit vectors\n",
    "    # np.multiply(upper_arm_vecs, lower_arm_vecs)\n",
    "    # np.sum(np.multiply(upper_arm_vecs, lower_arm_vecs), axis=1)\n",
    "    upper_arm_forearm_angle = np.degrees(np.arccos(np.clip(np.sum(np.multiply(upper_arm_vecs, lower_arm_vecs), axis=1), -1.0, 1.0)))\n",
    "    print(upper_arm_forearm_angle.shape)\n",
    "\n",
    ""
   ],
   "cell_type": "code",
   "outputs": [
    {
     "output_type": "stream",
     "name": "stdout",
     "text": "Primary arm: Right\n(114, 2)\n[0.08156564 0.51118136]\n(114,)\nPrimary arm: Right\n(101, 2)\n[0.0650786  0.50347846]\n(101,)\nPrimary arm: Right\n(140, 2)\n[-0.05007426  0.58509838]\n(140,)\nPrimary arm: Right\n(122, 2)\n[-0.0494862   0.56039922]\n(122,)\nPrimary arm: Left\n(113, 2)\n[0.02037001 0.52791878]\n(113,)\nPrimary arm: Left\n(117, 2)\n[-0.03531341  0.58447537]\n(117,)\n"
    }
   ],
   "metadata": {},
   "execution_count": 13
  },
  {
   "source": [
    "upper_arm_vecs = upper_arm_vecs/ np.expand_dims(np.linalg.norm(upper_arm_vecs, axis=1), axis=1)\n",
    "lower_arm_vecs = lower_arm_vecs/ np.expand_dims(np.linalg.norm(upper_arm_vecs, axis=1), axis=1)"
   ],
   "cell_type": "code",
   "outputs": [],
   "metadata": {},
   "execution_count": 14
  },
  {
   "source": [
    "# Clearer code for angle\n",
    "for video in good_videos:\n",
    "    frames = video\n",
    "\n",
    "    side = detect_perspective(frames)\n",
    "\n",
    "    #Angles to calculate\n",
    "    upperarm_forearm_angles = []\n",
    "    for frame in frames:\n",
    "        if (side == pose.Side.right):\n",
    "            upperarm_forearm_joints = [frame.rshoulder, frame.relbow, frame.relbow, frame.rwrist]\n",
    "        else:\n",
    "            upperarm_forearm_joints = [frame.lshoulder, frame.lelbow, frame.lelbow, frame.lwrist]\n",
    "        \n",
    "        #Pass 4 joints - joint1, joint2 make one vec and joint3 and joint4 make another vec\n",
    "        upperarm_forearm_angle = pose.Joint.calculate_angle(*upperarm_forearm_joints)\n",
    "        # print(upperarm_forearm_angle)\n",
    "        upperarm_forearm_angles.append(upperarm_forearm_angle)\n",
    "    print(len(upperarm_forearm_angles))\n",
    "    print(upperarm_forearm_angles[:10])\n",
    "\n",
    "\n",
    "\n",
    ""
   ],
   "cell_type": "code",
   "outputs": [
    {
     "output_type": "stream",
     "name": "stdout",
     "text": "Primary arm: Right\n114\n[7.181805962695296, 6.318693492254908, 6.321712578784855, 6.157778476184139, 6.664120851454403, 8.093517037808134, 7.743465327864483, 7.49014760825313, 8.198115773180614, 8.704940075573054]\nPrimary arm: Right\n101\n[6.113107148341152, 6.21762171976902, 8.60090636729885, 8.44679588372694, 10.051993112960886, 9.82165617986894, 12.78015299125649, 11.906724328656892, 14.56782941338859, 17.692772092464338]\nPrimary arm: Right\n140\n[25.919019399918458, 25.290481717471707, 23.57808198866265, 23.577462317803228, 24.103830893608666, 24.10812376257264, 24.150628520480257, 23.649184140289293, 23.15889389246775, 22.435074541346115]\nPrimary arm: Right\n122\n[18.151219376125177, 17.355830185662285, 17.512443741781453, 18.171106753837993, 19.074151609383577, 19.90901281093911, 22.362646019616616, 22.19008735969188, 22.260510547745437, 23.894994910480804]\nPrimary arm: Left\n113\n[2.949687907683666, 2.198817674689426, 2.183732384321233, 2.9336743409183565, 4.14873267412005, 7.341695225663723, 5.801874425784553, 2.2478603833392867, 2.267279946416349, 7.516139781455118]\nPrimary arm: Left\n117\n[6.48425651090387, 8.313150097862048, 1.1909765894686546, 1.7776484089701945, 6.026835443577344, 122.96087268070401, 12.406212425515323, 14.03969122493817, 33.79364186072824, 33.86838934422081]\n"
    }
   ],
   "metadata": {},
   "execution_count": 34
  },
  {
   "source": [
    "\n",
    ""
   ],
   "cell_type": "code",
   "outputs": [],
   "metadata": {},
   "execution_count": 16
  }
 ]
}