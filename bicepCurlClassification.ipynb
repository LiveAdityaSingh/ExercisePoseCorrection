{
 "nbformat": 4,
 "nbformat_minor": 2,
 "metadata": {
  "language_info": {
   "name": "python",
   "codemirror_mode": {
    "name": "ipython",
    "version": 3
   },
   "version": "3.7.3-final"
  },
  "orig_nbformat": 2,
  "file_extension": ".py",
  "mimetype": "text/x-python",
  "name": "python",
  "npconvert_exporter": "python",
  "pygments_lexer": "ipython3",
  "version": 3,
  "kernelspec": {
   "name": "env",
   "display_name": "env"
  }
 },
 "cells": [
  {
   "cell_type": "code",
   "execution_count": 14,
   "metadata": {},
   "outputs": [],
   "source": [
    "from keras.preprocessing import sequence\n",
    "import tensorflow as tf\n",
    "from keras.models import Sequential\n",
    "from keras.layers import Dense, Flatten, Masking\n",
    "from keras.layers import LSTM\n",
    "\n",
    "from keras.optimizers import Adam\n",
    "from keras.models import load_model\n",
    "from keras.callbacks import ModelCheckpoint"
   ]
  },
  {
   "cell_type": "code",
   "execution_count": 15,
   "metadata": {},
   "outputs": [],
   "source": [
    "import pose\n",
    "from pose_parser import parse_file, detect_perspective\n",
    "import numpy as np"
   ]
  },
  {
   "cell_type": "code",
   "execution_count": 16,
   "metadata": {},
   "outputs": [
    {
     "name": "stdout",
     "output_type": "stream",
     "text": "Data shape:  (114, 18, 3)\nMean torso:  360.11485467535044\nData shape:  (101, 18, 3)\nMean torso:  361.91618075058716\nData shape:  (140, 18, 3)\nMean torso:  274.49230143795376\nData shape:  (122, 18, 3)\nMean torso:  276.056770970454\nData shape:  (113, 18, 3)\nMean torso:  386.10674117118276\nData shape:  (117, 18, 3)\nMean torso:  388.8324699035529\nData shape:  (108, 18, 3)\nMean torso:  359.69948300318237\nData shape:  (146, 18, 3)\nMean torso:  362.94356251552193\nData shape:  (92, 18, 3)\nMean torso:  364.56482601788053\nData shape:  (120, 18, 3)\nMean torso:  364.55769028003914\nData shape:  (123, 18, 3)\nMean torso:  271.04817985102164\nData shape:  (100, 18, 3)\nMean torso:  274.544553716319\nData shape:  (127, 18, 3)\nMean torso:  276.5870125620258\nData shape:  (102, 18, 3)\nMean torso:  389.4333451516014\nData shape:  (108, 18, 3)\nMean torso:  366.72702499907354\nData shape:  (80, 18, 3)\nMean torso:  382.9545547331215\n"
    }
   ],
   "source": [
    "good_videos = [parse_file(\"dataset/bicep/bicep_good_\"+ str(i) +\".npy\") for i in range(1,7)]\n",
    "bad_videos = [parse_file(\"dataset/bicep/bicep_bad_\" + str(i) + \".npy\") for i in range(1,11)]"
   ]
  },
  {
   "cell_type": "code",
   "execution_count": 29,
   "metadata": {},
   "outputs": [
    {
     "name": "stdout",
     "output_type": "stream",
     "text": "Primary arm: Right\nPrimary arm: Right\nPrimary arm: Right\nPrimary arm: Right\nPrimary arm: Left\nPrimary arm: Left\nPrimary arm: Right\nPrimary arm: Right\nPrimary arm: Right\nPrimary arm: Right\nPrimary arm: Right\nPrimary arm: Right\nPrimary arm: Right\nPrimary arm: Left\nPrimary arm: Left\nPrimary arm: Right\n"
    }
   ],
   "source": [
    "xs = []\n",
    "ys = []\n",
    "for video in good_videos + bad_videos:\n",
    "    frames = video\n",
    "\n",
    "    side = detect_perspective(frames)\n",
    "\n",
    "    #Angles to calculate\n",
    "    upperarm_forearm_angles = []\n",
    "    upperarm_torso_angles = []\n",
    "    sequence = []\n",
    "\n",
    "    for frame in frames:\n",
    "        if (side == pose.Side.right):\n",
    "            upperarm = pose.Part(frame.relbow, frame.rshoulder)\n",
    "            forearm = pose.Part(frame.relbow, frame.rwrist)\n",
    "            torso = pose.Part(frame.rhip, frame.neck)\n",
    "        else:\n",
    "            upperarm = pose.Part(frame.lelbow, frame.lshoulder)\n",
    "            forearm = pose.Part(frame.lelbow, frame.lwrist)\n",
    "            torso = pose.Part(frame.lhip, frame.neck)\n",
    "        angle1 = upperarm.calculate_angle(forearm)\n",
    "        angle2 = upperarm.calculate_angle(torso)\n",
    "        sequence.append(np.array([angle1, angle2]))\n",
    "        upperarm_forearm_angles.append(angle1)\n",
    "        upperarm_torso_angles.append(angle2)\n",
    "    xs.append(np.array(sequence))\n",
    "    if (video in good_videos):\n",
    "        ys.append([0])\n",
    "    else:\n",
    "        ys.append([1])"
   ]
  },
  {
   "cell_type": "code",
   "execution_count": 30,
   "metadata": {},
   "outputs": [
    {
     "name": "stdout",
     "output_type": "stream",
     "text": "16 16\n[[0], [0], [0], [0], [0], [0], [1], [1], [1], [1], [1], [1], [1], [1], [1], [1]]\n"
    }
   ],
   "source": [
    "print(len(xs), len(ys))\n",
    "print(ys)"
   ]
  },
  {
   "cell_type": "code",
   "execution_count": 31,
   "metadata": {},
   "outputs": [
    {
     "name": "stdout",
     "output_type": "stream",
     "text": "(16,) (16, 1)\n(16, 146, 2) (16, 1)\n"
    }
   ],
   "source": [
    "#Convert to np array\n",
    "xs = np.array(xs)\n",
    "ys = np.array(ys)\n",
    "print(xs.shape, ys.shape)\n",
    "#Add padding\n",
    "from keras.preprocessing import sequence\n",
    "xs=sequence.pad_sequences(xs, padding='post', dtype='float', truncating='post')\n",
    "ys=sequence.pad_sequences(ys, padding='post', dtype='float', truncating='post')\n",
    "seq_len = xs.shape[1]\n",
    "print(xs.shape, ys.shape)\n"
   ]
  },
  {
   "cell_type": "code",
   "execution_count": 8,
   "metadata": {},
   "outputs": [],
   "source": [
    "from sklearn.utils import shuffle\n",
    "from sklearn.model_selection import train_test_split\n",
    "\n",
    "X_train, X_test, y_train, y_test = train_test_split(xs, ys, test_size=0.20, random_state=42)\n",
    "X_train, y_train = shuffle(X_train, y_train)\n",
    "X_test, y_test = shuffle(X_test, y_test)\n"
   ]
  },
  {
   "cell_type": "code",
   "execution_count": 10,
   "metadata": {},
   "outputs": [
    {
     "name": "stdout",
     "output_type": "stream",
     "text": "WARNING:tensorflow:From C:\\Users\\User\\AppData\\Local\\Programs\\Python\\Python37\\lib\\site-packages\\keras\\backend\\tensorflow_backend.py:1305: calling reduce_any_v1 (from tensorflow.python.ops.math_ops) with keep_dims is deprecated and will be removed in a future version.\nInstructions for updating:\nkeep_dims is deprecated, use keepdims instead\nWARNING:tensorflow:From C:\\Users\\User\\AppData\\Local\\Programs\\Python\\Python37\\lib\\site-packages\\tensorflow\\python\\framework\\op_def_library.py:263: colocate_with (from tensorflow.python.framework.ops) is deprecated and will be removed in a future version.\nInstructions for updating:\nColocations handled automatically by placer.\nWARNING:tensorflow:From C:\\Users\\User\\AppData\\Local\\Programs\\Python\\Python37\\lib\\site-packages\\keras\\backend\\tensorflow_backend.py:1188: calling reduce_sum_v1 (from tensorflow.python.ops.math_ops) with keep_dims is deprecated and will be removed in a future version.\nInstructions for updating:\nkeep_dims is deprecated, use keepdims instead\n"
    }
   ],
   "source": [
    "model = Sequential()\n",
    "model.add(LSTM(256, input_shape=(seq_len, 2)))\n",
    "model.add(Dense(1, activation='sigmoid'))"
   ]
  },
  {
   "cell_type": "code",
   "execution_count": 11,
   "metadata": {},
   "outputs": [
    {
     "name": "stdout",
     "output_type": "stream",
     "text": "_________________________________________________________________\nLayer (type)                 Output Shape              Param #   \n=================================================================\nmasking_1 (Masking)          (None, None, 2)           0         \n_________________________________________________________________\nlstm_1 (LSTM)                (None, 16)                1216      \n_________________________________________________________________\ndense_1 (Dense)              (None, 1)                 17        \n=================================================================\nTotal params: 1,233\nTrainable params: 1,233\nNon-trainable params: 0\n_________________________________________________________________\n"
    }
   ],
   "source": [
    "model.summary()"
   ]
  },
  {
   "cell_type": "code",
   "execution_count": 13,
   "metadata": {},
   "outputs": [
    {
     "name": "stdout",
     "output_type": "stream",
     "text": "WARNING:tensorflow:From C:\\Users\\User\\AppData\\Local\\Programs\\Python\\Python37\\lib\\site-packages\\tensorflow\\python\\ops\\math_ops.py:3066: to_int32 (from tensorflow.python.ops.math_ops) is deprecated and will be removed in a future version.\nInstructions for updating:\nUse tf.cast instead.\nTrain on 14 samples, validate on 2 samples\nEpoch 1/100\n14/14 [==============================] - 1s - loss: 0.7572 - acc: 0.5714 - val_loss: 0.7197 - val_acc: 0.5000\nEpoch 2/100\n14/14 [==============================] - 0s - loss: 0.7478 - acc: 0.5714 - val_loss: 0.7190 - val_acc: 0.5000\nEpoch 3/100\n14/14 [==============================] - 0s - loss: 0.7384 - acc: 0.5714 - val_loss: 0.7184 - val_acc: 0.5000\nEpoch 4/100\n14/14 [==============================] - 0s - loss: 0.7290 - acc: 0.5714 - val_loss: 0.7181 - val_acc: 0.5000\nEpoch 5/100\n14/14 [==============================] - 0s - loss: 0.7188 - acc: 0.5000 - val_loss: 0.7182 - val_acc: 0.5000\nEpoch 6/100\n14/14 [==============================] - 0s - loss: 0.7104 - acc: 0.5000 - val_loss: 0.7194 - val_acc: 0.5000\nEpoch 7/100\n14/14 [==============================] - 0s - loss: 0.7057 - acc: 0.4286 - val_loss: 0.7225 - val_acc: 0.5000\nEpoch 8/100\n14/14 [==============================] - 0s - loss: 0.7026 - acc: 0.4286 - val_loss: 0.7278 - val_acc: 0.5000\nEpoch 9/100\n14/14 [==============================] - 0s - loss: 0.7000 - acc: 0.4286 - val_loss: 0.7344 - val_acc: 0.5000\nEpoch 10/100\n14/14 [==============================] - 0s - loss: 0.6981 - acc: 0.4286 - val_loss: 0.7402 - val_acc: 0.5000\nEpoch 11/100\n14/14 [==============================] - 0s - loss: 0.6970 - acc: 0.4286 - val_loss: 0.7431 - val_acc: 0.5000\nEpoch 12/100\n14/14 [==============================] - 0s - loss: 0.6953 - acc: 0.4286 - val_loss: 0.7428 - val_acc: 0.5000\nEpoch 13/100\n14/14 [==============================] - 0s - loss: 0.6940 - acc: 0.4286 - val_loss: 0.7404 - val_acc: 0.5000\nEpoch 14/100\n14/14 [==============================] - 0s - loss: 0.6927 - acc: 0.4286 - val_loss: 0.7369 - val_acc: 0.5000\nEpoch 15/100\n14/14 [==============================] - 0s - loss: 0.6915 - acc: 0.4286 - val_loss: 0.7334 - val_acc: 0.5000\nEpoch 16/100\n14/14 [==============================] - 0s - loss: 0.6903 - acc: 0.4286 - val_loss: 0.7303 - val_acc: 0.5000\nEpoch 17/100\n14/14 [==============================] - 0s - loss: 0.6894 - acc: 0.4286 - val_loss: 0.7274 - val_acc: 0.5000\nEpoch 18/100\n14/14 [==============================] - 0s - loss: 0.6888 - acc: 0.4286 - val_loss: 0.7249 - val_acc: 0.5000\nEpoch 19/100\n14/14 [==============================] - 0s - loss: 0.6882 - acc: 0.4286 - val_loss: 0.7228 - val_acc: 0.5000\nEpoch 20/100\n14/14 [==============================] - 0s - loss: 0.6875 - acc: 0.4286 - val_loss: 0.7210 - val_acc: 0.5000\nEpoch 21/100\n14/14 [==============================] - 0s - loss: 0.6866 - acc: 0.4286 - val_loss: 0.7194 - val_acc: 0.5000\nEpoch 22/100\n14/14 [==============================] - 0s - loss: 0.6856 - acc: 0.4286 - val_loss: 0.7180 - val_acc: 0.5000\nEpoch 23/100\n14/14 [==============================] - 0s - loss: 0.6844 - acc: 0.4286 - val_loss: 0.7169 - val_acc: 0.5000\nEpoch 24/100\n14/14 [==============================] - 0s - loss: 0.6833 - acc: 0.4286 - val_loss: 0.7159 - val_acc: 0.5000\nEpoch 25/100\n14/14 [==============================] - 0s - loss: 0.6822 - acc: 0.4286 - val_loss: 0.7152 - val_acc: 0.5000\nEpoch 26/100\n14/14 [==============================] - 0s - loss: 0.6812 - acc: 0.4286 - val_loss: 0.7146 - val_acc: 0.5000\nEpoch 27/100\n14/14 [==============================] - 0s - loss: 0.6803 - acc: 0.4286 - val_loss: 0.7140 - val_acc: 0.5000\nEpoch 28/100\n14/14 [==============================] - 0s - loss: 0.6794 - acc: 0.4286 - val_loss: 0.7134 - val_acc: 0.5000\nEpoch 29/100\n14/14 [==============================] - 0s - loss: 0.6786 - acc: 0.4286 - val_loss: 0.7126 - val_acc: 0.5000\nEpoch 30/100\n14/14 [==============================] - 0s - loss: 0.6779 - acc: 0.4286 - val_loss: 0.7118 - val_acc: 0.5000\nEpoch 31/100\n14/14 [==============================] - 0s - loss: 0.6772 - acc: 0.4286 - val_loss: 0.7109 - val_acc: 0.5000\nEpoch 32/100\n14/14 [==============================] - 0s - loss: 0.6765 - acc: 0.4286 - val_loss: 0.7098 - val_acc: 0.5000\nEpoch 33/100\n14/14 [==============================] - 0s - loss: 0.6758 - acc: 0.4286 - val_loss: 0.7087 - val_acc: 0.5000\nEpoch 34/100\n14/14 [==============================] - 0s - loss: 0.6752 - acc: 0.4286 - val_loss: 0.7076 - val_acc: 0.5000\nEpoch 35/100\n14/14 [==============================] - 0s - loss: 0.6745 - acc: 0.4286 - val_loss: 0.7065 - val_acc: 0.5000\nEpoch 36/100\n14/14 [==============================] - 0s - loss: 0.6739 - acc: 0.4286 - val_loss: 0.7055 - val_acc: 0.5000\nEpoch 37/100\n14/14 [==============================] - 0s - loss: 0.6732 - acc: 0.4286 - val_loss: 0.7047 - val_acc: 0.5000\nEpoch 38/100\n14/14 [==============================] - 0s - loss: 0.6726 - acc: 0.4286 - val_loss: 0.7040 - val_acc: 0.5000\nEpoch 39/100\n14/14 [==============================] - 0s - loss: 0.6720 - acc: 0.4286 - val_loss: 0.7034 - val_acc: 0.5000\nEpoch 40/100\n14/14 [==============================] - 0s - loss: 0.6714 - acc: 0.4286 - val_loss: 0.7030 - val_acc: 0.5000\nEpoch 41/100\n14/14 [==============================] - 0s - loss: 0.6708 - acc: 0.4286 - val_loss: 0.7027 - val_acc: 0.5000\nEpoch 42/100\n14/14 [==============================] - 0s - loss: 0.6702 - acc: 0.4286 - val_loss: 0.7026 - val_acc: 0.5000\nEpoch 43/100\n14/14 [==============================] - 0s - loss: 0.6696 - acc: 0.4286 - val_loss: 0.7025 - val_acc: 0.5000\nEpoch 44/100\n14/14 [==============================] - 0s - loss: 0.6690 - acc: 0.4286 - val_loss: 0.7024 - val_acc: 0.5000\nEpoch 45/100\n14/14 [==============================] - 0s - loss: 0.6684 - acc: 0.4286 - val_loss: 0.7025 - val_acc: 0.5000\nEpoch 46/100\n14/14 [==============================] - 0s - loss: 0.6678 - acc: 0.4286 - val_loss: 0.7025 - val_acc: 0.5000\nEpoch 47/100\n14/14 [==============================] - 0s - loss: 0.6673 - acc: 0.4286 - val_loss: 0.7024 - val_acc: 0.5000\nEpoch 48/100\n14/14 [==============================] - 0s - loss: 0.6668 - acc: 0.4286 - val_loss: 0.7024 - val_acc: 0.5000\nEpoch 49/100\n14/14 [==============================] - 0s - loss: 0.6663 - acc: 0.4286 - val_loss: 0.7022 - val_acc: 0.5000\nEpoch 50/100\n14/14 [==============================] - 0s - loss: 0.6658 - acc: 0.4286 - val_loss: 0.7019 - val_acc: 0.5000\nEpoch 51/100\n14/14 [==============================] - 0s - loss: 0.6653 - acc: 0.4286 - val_loss: 0.7016 - val_acc: 0.5000\nEpoch 52/100\n14/14 [==============================] - 0s - loss: 0.6648 - acc: 0.4286 - val_loss: 0.7012 - val_acc: 0.5000\nEpoch 53/100\n14/14 [==============================] - 0s - loss: 0.6643 - acc: 0.4286 - val_loss: 0.7008 - val_acc: 0.5000\nEpoch 54/100\n14/14 [==============================] - 0s - loss: 0.6639 - acc: 0.4286 - val_loss: 0.7004 - val_acc: 0.5000\nEpoch 55/100\n14/14 [==============================] - 0s - loss: 0.6634 - acc: 0.4286 - val_loss: 0.7000 - val_acc: 0.5000\nEpoch 56/100\n14/14 [==============================] - 0s - loss: 0.6630 - acc: 0.4286 - val_loss: 0.6997 - val_acc: 0.5000\nEpoch 57/100\n14/14 [==============================] - 0s - loss: 0.6625 - acc: 0.4286 - val_loss: 0.6994 - val_acc: 0.5000\nEpoch 58/100\n14/14 [==============================] - 0s - loss: 0.6621 - acc: 0.4286 - val_loss: 0.6992 - val_acc: 0.5000\nEpoch 59/100\n14/14 [==============================] - 0s - loss: 0.6617 - acc: 0.4286 - val_loss: 0.6990 - val_acc: 0.5000\nEpoch 60/100\n14/14 [==============================] - 0s - loss: 0.6613 - acc: 0.4286 - val_loss: 0.6989 - val_acc: 0.5000\nEpoch 61/100\n14/14 [==============================] - 0s - loss: 0.6609 - acc: 0.4286 - val_loss: 0.6988 - val_acc: 0.5000\nEpoch 62/100\n14/14 [==============================] - 0s - loss: 0.6605 - acc: 0.4286 - val_loss: 0.6988 - val_acc: 0.5000\nEpoch 63/100\n14/14 [==============================] - 0s - loss: 0.6601 - acc: 0.4286 - val_loss: 0.6987 - val_acc: 0.5000\nEpoch 64/100\n14/14 [==============================] - 0s - loss: 0.6597 - acc: 0.3571 - val_loss: 0.6986 - val_acc: 0.5000\nEpoch 65/100\n14/14 [==============================] - 0s - loss: 0.6594 - acc: 0.3571 - val_loss: 0.6985 - val_acc: 0.5000\nEpoch 66/100\n14/14 [==============================] - 0s - loss: 0.6590 - acc: 0.3571 - val_loss: 0.6983 - val_acc: 0.5000\nEpoch 67/100\n14/14 [==============================] - 0s - loss: 0.6587 - acc: 0.3571 - val_loss: 0.6982 - val_acc: 0.5000\nEpoch 68/100\n14/14 [==============================] - 0s - loss: 0.6583 - acc: 0.3571 - val_loss: 0.6980 - val_acc: 0.5000\nEpoch 69/100\n14/14 [==============================] - 0s - loss: 0.6580 - acc: 0.3571 - val_loss: 0.6978 - val_acc: 0.5000\nEpoch 70/100\n14/14 [==============================] - 0s - loss: 0.6577 - acc: 0.3571 - val_loss: 0.6976 - val_acc: 0.5000\nEpoch 71/100\n14/14 [==============================] - 0s - loss: 0.6574 - acc: 0.3571 - val_loss: 0.6974 - val_acc: 0.5000\nEpoch 72/100\n14/14 [==============================] - 0s - loss: 0.6570 - acc: 0.3571 - val_loss: 0.6972 - val_acc: 0.5000\nEpoch 73/100\n14/14 [==============================] - 0s - loss: 0.6567 - acc: 0.3571 - val_loss: 0.6971 - val_acc: 0.0000e+00\nEpoch 74/100\n14/14 [==============================] - 0s - loss: 0.6564 - acc: 0.3571 - val_loss: 0.6970 - val_acc: 0.0000e+00\nEpoch 75/100\n14/14 [==============================] - 0s - loss: 0.6562 - acc: 0.3571 - val_loss: 0.6969 - val_acc: 0.0000e+00\nEpoch 76/100\n14/14 [==============================] - 0s - loss: 0.6559 - acc: 0.3571 - val_loss: 0.6968 - val_acc: 0.0000e+00\nEpoch 77/100\n14/14 [==============================] - 0s - loss: 0.6556 - acc: 0.3571 - val_loss: 0.6968 - val_acc: 0.5000\nEpoch 78/100\n14/14 [==============================] - 0s - loss: 0.6553 - acc: 0.6429 - val_loss: 0.6967 - val_acc: 0.5000\nEpoch 79/100\n14/14 [==============================] - 0s - loss: 0.6551 - acc: 0.6429 - val_loss: 0.6967 - val_acc: 0.5000\nEpoch 80/100\n14/14 [==============================] - 0s - loss: 0.6548 - acc: 0.6429 - val_loss: 0.6967 - val_acc: 0.5000\nEpoch 81/100\n14/14 [==============================] - 0s - loss: 0.6545 - acc: 0.6429 - val_loss: 0.6967 - val_acc: 0.5000\nEpoch 82/100\n14/14 [==============================] - 0s - loss: 0.6543 - acc: 0.6429 - val_loss: 0.6967 - val_acc: 0.5000\nEpoch 83/100\n14/14 [==============================] - 0s - loss: 0.6541 - acc: 0.6429 - val_loss: 0.6966 - val_acc: 0.5000\nEpoch 84/100\n14/14 [==============================] - 0s - loss: 0.6538 - acc: 0.6429 - val_loss: 0.6966 - val_acc: 0.5000\nEpoch 85/100\n14/14 [==============================] - 0s - loss: 0.6536 - acc: 0.6429 - val_loss: 0.6966 - val_acc: 0.5000\nEpoch 86/100\n14/14 [==============================] - 0s - loss: 0.6534 - acc: 0.6429 - val_loss: 0.6965 - val_acc: 0.5000\nEpoch 87/100\n14/14 [==============================] - 0s - loss: 0.6532 - acc: 0.6429 - val_loss: 0.6965 - val_acc: 0.5000\nEpoch 88/100\n14/14 [==============================] - 0s - loss: 0.6530 - acc: 0.6429 - val_loss: 0.6965 - val_acc: 0.5000\nEpoch 89/100\n14/14 [==============================] - 0s - loss: 0.6528 - acc: 0.6429 - val_loss: 0.6965 - val_acc: 0.5000\nEpoch 90/100\n14/14 [==============================] - 0s - loss: 0.6526 - acc: 0.6429 - val_loss: 0.6965 - val_acc: 0.5000\nEpoch 91/100\n14/14 [==============================] - 0s - loss: 0.6524 - acc: 0.6429 - val_loss: 0.6965 - val_acc: 0.5000\nEpoch 92/100\n14/14 [==============================] - 0s - loss: 0.6522 - acc: 0.6429 - val_loss: 0.6965 - val_acc: 0.5000\nEpoch 93/100\n14/14 [==============================] - 0s - loss: 0.6520 - acc: 0.6429 - val_loss: 0.6965 - val_acc: 0.5000\nEpoch 94/100\n14/14 [==============================] - 0s - loss: 0.6518 - acc: 0.6429 - val_loss: 0.6965 - val_acc: 0.5000\nEpoch 95/100\n14/14 [==============================] - 0s - loss: 0.6517 - acc: 0.6429 - val_loss: 0.6966 - val_acc: 0.5000\nEpoch 96/100\n14/14 [==============================] - 0s - loss: 0.6515 - acc: 0.6429 - val_loss: 0.6966 - val_acc: 0.5000\nEpoch 97/100\n14/14 [==============================] - 0s - loss: 0.6513 - acc: 0.6429 - val_loss: 0.6966 - val_acc: 0.5000\nEpoch 98/100\n14/14 [==============================] - 0s - loss: 0.6512 - acc: 0.6429 - val_loss: 0.6966 - val_acc: 0.5000\nEpoch 99/100\n14/14 [==============================] - 0s - loss: 0.6510 - acc: 0.6429 - val_loss: 0.6966 - val_acc: 0.5000\nEpoch 100/100\n14/14 [==============================] - 0s - loss: 0.6509 - acc: 0.6429 - val_loss: 0.6966 - val_acc: 0.5000\n"
    },
    {
     "data": {
      "text/plain": "<keras.callbacks.History at 0x1ebfc4af940>"
     },
     "execution_count": 13,
     "metadata": {},
     "output_type": "execute_result"
    }
   ],
   "source": [
    "adam = Adam(lr=0.001)\n",
    "# chk = ModelCheckpoint('best_model.pkl', monitor='val_acc', save_best_only=True, mode='max', verbose=1)\n",
    "model.compile(loss='binary_crossentropy', optimizer=adam, metrics=['accuracy'])\n",
    "model.fit(x_train, y_train, epochs=100, batch_size=16, validation_data=(x_val,y_val))\n",
    "# model.predict(np.random.rand(10, 5, n_feats))   # This works"
   ]
  },
  {
   "cell_type": "code",
   "execution_count": null,
   "metadata": {},
   "outputs": [],
   "source": []
  }
 ]
}